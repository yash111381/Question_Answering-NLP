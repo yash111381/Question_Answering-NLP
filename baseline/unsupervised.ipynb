{
 "cells": [
  {
   "cell_type": "code",
   "execution_count": 3,
   "metadata": {},
   "outputs": [],
   "source": [
    "import numpy as np, pandas as pd\n",
    "import json\n",
    "import ast \n",
    "from textblob import TextBlob\n",
    "import nltk\n",
    "import torch\n",
    "import pickle\n",
    "from scipy import spatial\n",
    "import warnings\n",
    "warnings.filterwarnings('ignore')\n",
    "import spacy\n",
    "from nltk import Tree\n",
    "en_nlp = spacy.load('en_core_web_sm')\n",
    "from nltk.stem.lancaster import LancasterStemmer\n",
    "st = LancasterStemmer()\n",
    "from sklearn.feature_extraction.text import TfidfVectorizer, TfidfTransformer"
   ]
  },
  {
   "cell_type": "code",
   "execution_count": 4,
   "metadata": {},
   "outputs": [],
   "source": [
    "# !conda update pandas --y"
   ]
  },
  {
   "cell_type": "code",
   "execution_count": 5,
   "metadata": {},
   "outputs": [],
   "source": [
    "train = pd.read_csv(\"data/train.csv\")"
   ]
  },
  {
   "cell_type": "code",
   "execution_count": 6,
   "metadata": {},
   "outputs": [
    {
     "data": {
      "text/plain": [
       "(87599, 4)"
      ]
     },
     "execution_count": 6,
     "metadata": {},
     "output_type": "execute_result"
    }
   ],
   "source": [
    "train.shape"
   ]
  },
  {
   "cell_type": "markdown",
   "metadata": {},
   "source": [
    "### Loading Embedding dictionary"
   ]
  },
  {
   "cell_type": "code",
   "execution_count": 7,
   "metadata": {},
   "outputs": [],
   "source": [
    "with open(\"data/dict_embeddings1.pickle\", \"rb\") as f:\n",
    "    d1 = pickle.load(f)"
   ]
  },
  {
   "cell_type": "code",
   "execution_count": 8,
   "metadata": {},
   "outputs": [],
   "source": [
    "with open(\"data/dict_embeddings2.pickle\", \"rb\") as f:\n",
    "    d2 = pickle.load(f)"
   ]
  },
  {
   "cell_type": "code",
   "execution_count": 9,
   "metadata": {},
   "outputs": [],
   "source": [
    "dict_emb = dict(d1)\n",
    "dict_emb.update(d2)"
   ]
  },
  {
   "cell_type": "code",
   "execution_count": 10,
   "metadata": {},
   "outputs": [
    {
     "data": {
      "text/plain": [
       "179862"
      ]
     },
     "execution_count": 10,
     "metadata": {},
     "output_type": "execute_result"
    }
   ],
   "source": [
    "len(dict_emb)"
   ]
  },
  {
   "cell_type": "code",
   "execution_count": 11,
   "metadata": {},
   "outputs": [],
   "source": [
    "del d1, d2"
   ]
  },
  {
   "cell_type": "markdown",
   "metadata": {},
   "source": [
    "## Data Processing"
   ]
  },
  {
   "cell_type": "code",
   "execution_count": 12,
   "metadata": {},
   "outputs": [],
   "source": [
    "def get_target(x):\n",
    "    idx = -1\n",
    "    for i in range(len(x[\"sentences\"])):\n",
    "        if x[\"text\"] in x[\"sentences\"][i]: idx = i\n",
    "    return idx"
   ]
  },
  {
   "cell_type": "code",
   "execution_count": 72,
   "metadata": {},
   "outputs": [
    {
     "data": {
      "text/plain": [
       "<matplotlib.axes._subplots.AxesSubplot at 0x1643903d7c8>"
      ]
     },
     "execution_count": 72,
     "metadata": {},
     "output_type": "execute_result"
    }
   ],
   "source": []
  },
  {
   "cell_type": "code",
   "execution_count": 14,
   "metadata": {},
   "outputs": [
    {
     "data": {
      "text/plain": [
       "(87599, 4)"
      ]
     },
     "execution_count": 14,
     "metadata": {},
     "output_type": "execute_result"
    }
   ],
   "source": [
    "train.shape"
   ]
  },
  {
   "cell_type": "code",
   "execution_count": 15,
   "metadata": {},
   "outputs": [],
   "source": [
    "train.dropna(inplace=True)"
   ]
  },
  {
   "cell_type": "code",
   "execution_count": 16,
   "metadata": {},
   "outputs": [
    {
     "data": {
      "text/plain": [
       "(87598, 4)"
      ]
     },
     "execution_count": 16,
     "metadata": {},
     "output_type": "execute_result"
    }
   ],
   "source": [
    "train.shape"
   ]
  },
  {
   "cell_type": "code",
   "execution_count": 17,
   "metadata": {},
   "outputs": [],
   "source": [
    "def process_data(train):\n",
    "    \n",
    "    print(\"step 1\")\n",
    "    train['sentences'] = train['context'].apply(lambda x: [item.raw for item in TextBlob(x).sentences])\n",
    "    \n",
    "    print(\"step 2\")\n",
    "    train[\"target\"] = train.apply(get_target, axis = 1)\n",
    "    \n",
    "    print(\"step 3\")\n",
    "    train['sent_emb'] = train['sentences'].apply(lambda x: [dict_emb[item][0] if item in\\\n",
    "                                                           dict_emb else np.zeros(4096) for item in x])\n",
    "    print(\"step 4\")\n",
    "    train['quest_emb'] = train['question'].apply(lambda x: dict_emb[x] if x in dict_emb else np.zeros(4096) )\n",
    "        \n",
    "    return train   "
   ]
  },
  {
   "cell_type": "code",
   "execution_count": 18,
   "metadata": {},
   "outputs": [
    {
     "name": "stdout",
     "output_type": "stream",
     "text": [
      "step 1\n",
      "step 2\n",
      "step 3\n",
      "step 4\n"
     ]
    }
   ],
   "source": [
    "train = process_data(train)"
   ]
  },
  {
   "cell_type": "code",
   "execution_count": 19,
   "metadata": {},
   "outputs": [
    {
     "data": {
      "text/html": [
       "<div>\n",
       "<style scoped>\n",
       "    .dataframe tbody tr th:only-of-type {\n",
       "        vertical-align: middle;\n",
       "    }\n",
       "\n",
       "    .dataframe tbody tr th {\n",
       "        vertical-align: top;\n",
       "    }\n",
       "\n",
       "    .dataframe thead th {\n",
       "        text-align: right;\n",
       "    }\n",
       "</style>\n",
       "<table border=\"1\" class=\"dataframe\">\n",
       "  <thead>\n",
       "    <tr style=\"text-align: right;\">\n",
       "      <th></th>\n",
       "      <th>context</th>\n",
       "      <th>question</th>\n",
       "      <th>answer_start</th>\n",
       "      <th>text</th>\n",
       "      <th>sentences</th>\n",
       "      <th>target</th>\n",
       "      <th>sent_emb</th>\n",
       "      <th>quest_emb</th>\n",
       "    </tr>\n",
       "  </thead>\n",
       "  <tbody>\n",
       "    <tr>\n",
       "      <th>0</th>\n",
       "      <td>Architecturally, the school has a Catholic cha...</td>\n",
       "      <td>To whom did the Virgin Mary allegedly appear i...</td>\n",
       "      <td>515</td>\n",
       "      <td>Saint Bernadette Soubirous</td>\n",
       "      <td>[Architecturally, the school has a Catholic ch...</td>\n",
       "      <td>5</td>\n",
       "      <td>[[0.05519997, 0.05013141, 0.047870375, 0.01624...</td>\n",
       "      <td>[[0.11010079, 0.114229396, 0.11560896, 0.05489...</td>\n",
       "    </tr>\n",
       "    <tr>\n",
       "      <th>1</th>\n",
       "      <td>Architecturally, the school has a Catholic cha...</td>\n",
       "      <td>What is in front of the Notre Dame Main Building?</td>\n",
       "      <td>188</td>\n",
       "      <td>a copper statue of Christ</td>\n",
       "      <td>[Architecturally, the school has a Catholic ch...</td>\n",
       "      <td>2</td>\n",
       "      <td>[[0.05519997, 0.05013141, 0.047870375, 0.01624...</td>\n",
       "      <td>[[0.10951651, 0.11030624, 0.052100066, 0.03053...</td>\n",
       "    </tr>\n",
       "    <tr>\n",
       "      <th>2</th>\n",
       "      <td>Architecturally, the school has a Catholic cha...</td>\n",
       "      <td>The Basilica of the Sacred heart at Notre Dame...</td>\n",
       "      <td>279</td>\n",
       "      <td>the Main Building</td>\n",
       "      <td>[Architecturally, the school has a Catholic ch...</td>\n",
       "      <td>3</td>\n",
       "      <td>[[0.05519997, 0.05013141, 0.047870375, 0.01624...</td>\n",
       "      <td>[[0.011956469, 0.14930709, 0.026600497, 0.0527...</td>\n",
       "    </tr>\n",
       "  </tbody>\n",
       "</table>\n",
       "</div>"
      ],
      "text/plain": [
       "                                             context  \\\n",
       "0  Architecturally, the school has a Catholic cha...   \n",
       "1  Architecturally, the school has a Catholic cha...   \n",
       "2  Architecturally, the school has a Catholic cha...   \n",
       "\n",
       "                                            question  answer_start  \\\n",
       "0  To whom did the Virgin Mary allegedly appear i...           515   \n",
       "1  What is in front of the Notre Dame Main Building?           188   \n",
       "2  The Basilica of the Sacred heart at Notre Dame...           279   \n",
       "\n",
       "                         text  \\\n",
       "0  Saint Bernadette Soubirous   \n",
       "1   a copper statue of Christ   \n",
       "2           the Main Building   \n",
       "\n",
       "                                           sentences  target  \\\n",
       "0  [Architecturally, the school has a Catholic ch...       5   \n",
       "1  [Architecturally, the school has a Catholic ch...       2   \n",
       "2  [Architecturally, the school has a Catholic ch...       3   \n",
       "\n",
       "                                            sent_emb  \\\n",
       "0  [[0.05519997, 0.05013141, 0.047870375, 0.01624...   \n",
       "1  [[0.05519997, 0.05013141, 0.047870375, 0.01624...   \n",
       "2  [[0.05519997, 0.05013141, 0.047870375, 0.01624...   \n",
       "\n",
       "                                           quest_emb  \n",
       "0  [[0.11010079, 0.114229396, 0.11560896, 0.05489...  \n",
       "1  [[0.10951651, 0.11030624, 0.052100066, 0.03053...  \n",
       "2  [[0.011956469, 0.14930709, 0.026600497, 0.0527...  "
      ]
     },
     "execution_count": 19,
     "metadata": {},
     "output_type": "execute_result"
    }
   ],
   "source": [
    "train.head(3)"
   ]
  },
  {
   "cell_type": "code",
   "execution_count": null,
   "metadata": {},
   "outputs": [],
   "source": []
  },
  {
   "cell_type": "markdown",
   "metadata": {},
   "source": [
    "## Predicted Cosine & Euclidean Index"
   ]
  },
  {
   "cell_type": "code",
   "execution_count": 20,
   "metadata": {},
   "outputs": [],
   "source": [
    "def cosine_sim(x):\n",
    "    li = []\n",
    "    for item in x[\"sent_emb\"]:\n",
    "        li.append(spatial.distance.cosine(item,x[\"quest_emb\"][0]))\n",
    "    return li   "
   ]
  },
  {
   "cell_type": "code",
   "execution_count": 21,
   "metadata": {},
   "outputs": [],
   "source": [
    "def pred_idx(distances):\n",
    "    return np.argmin(distances)   "
   ]
  },
  {
   "cell_type": "code",
   "execution_count": 22,
   "metadata": {},
   "outputs": [],
   "source": [
    "def predictions(train):\n",
    "    \n",
    "    train[\"cosine_sim\"] = train.apply(cosine_sim, axis = 1)\n",
    "    train[\"diff\"] = (train[\"quest_emb\"] - train[\"sent_emb\"])**2\n",
    "    train[\"euclidean_dis\"] = train[\"diff\"].apply(lambda x: list(np.sum(x, axis = 1)))\n",
    "    del train[\"diff\"]\n",
    "    \n",
    "    print(\"cosine start\")\n",
    "    \n",
    "    train[\"pred_idx_cos\"] = train[\"cosine_sim\"].apply(lambda x: pred_idx(x))\n",
    "    train[\"pred_idx_euc\"] = train[\"euclidean_dis\"].apply(lambda x: pred_idx(x))\n",
    "    \n",
    "    return train\n",
    "    "
   ]
  },
  {
   "cell_type": "code",
   "execution_count": 23,
   "metadata": {},
   "outputs": [
    {
     "name": "stdout",
     "output_type": "stream",
     "text": [
      "cosine start\n"
     ]
    }
   ],
   "source": [
    "predicted = predictions(train)"
   ]
  },
  {
   "cell_type": "code",
   "execution_count": 24,
   "metadata": {},
   "outputs": [
    {
     "data": {
      "text/html": [
       "<div>\n",
       "<style scoped>\n",
       "    .dataframe tbody tr th:only-of-type {\n",
       "        vertical-align: middle;\n",
       "    }\n",
       "\n",
       "    .dataframe tbody tr th {\n",
       "        vertical-align: top;\n",
       "    }\n",
       "\n",
       "    .dataframe thead th {\n",
       "        text-align: right;\n",
       "    }\n",
       "</style>\n",
       "<table border=\"1\" class=\"dataframe\">\n",
       "  <thead>\n",
       "    <tr style=\"text-align: right;\">\n",
       "      <th></th>\n",
       "      <th>context</th>\n",
       "      <th>question</th>\n",
       "      <th>answer_start</th>\n",
       "      <th>text</th>\n",
       "      <th>sentences</th>\n",
       "      <th>target</th>\n",
       "      <th>sent_emb</th>\n",
       "      <th>quest_emb</th>\n",
       "      <th>cosine_sim</th>\n",
       "      <th>euclidean_dis</th>\n",
       "      <th>pred_idx_cos</th>\n",
       "      <th>pred_idx_euc</th>\n",
       "    </tr>\n",
       "  </thead>\n",
       "  <tbody>\n",
       "    <tr>\n",
       "      <th>0</th>\n",
       "      <td>Architecturally, the school has a Catholic cha...</td>\n",
       "      <td>To whom did the Virgin Mary allegedly appear i...</td>\n",
       "      <td>515</td>\n",
       "      <td>Saint Bernadette Soubirous</td>\n",
       "      <td>[Architecturally, the school has a Catholic ch...</td>\n",
       "      <td>5</td>\n",
       "      <td>[[0.05519997, 0.05013141, 0.047870375, 0.01624...</td>\n",
       "      <td>[[0.11010079, 0.114229396, 0.11560896, 0.05489...</td>\n",
       "      <td>[0.42473626136779785, 0.364050030708313, 0.347...</td>\n",
       "      <td>[14.563858, 15.262213, 17.398178, 14.272491, 1...</td>\n",
       "      <td>5</td>\n",
       "      <td>5</td>\n",
       "    </tr>\n",
       "    <tr>\n",
       "      <th>1</th>\n",
       "      <td>Architecturally, the school has a Catholic cha...</td>\n",
       "      <td>What is in front of the Notre Dame Main Building?</td>\n",
       "      <td>188</td>\n",
       "      <td>a copper statue of Christ</td>\n",
       "      <td>[Architecturally, the school has a Catholic ch...</td>\n",
       "      <td>2</td>\n",
       "      <td>[[0.05519997, 0.05013141, 0.047870375, 0.01624...</td>\n",
       "      <td>[[0.10951651, 0.11030624, 0.052100066, 0.03053...</td>\n",
       "      <td>[0.45407456159591675, 0.32262009382247925, 0.3...</td>\n",
       "      <td>[12.889506, 12.285218, 16.843704, 8.361172, 11...</td>\n",
       "      <td>3</td>\n",
       "      <td>3</td>\n",
       "    </tr>\n",
       "    <tr>\n",
       "      <th>2</th>\n",
       "      <td>Architecturally, the school has a Catholic cha...</td>\n",
       "      <td>The Basilica of the Sacred heart at Notre Dame...</td>\n",
       "      <td>279</td>\n",
       "      <td>the Main Building</td>\n",
       "      <td>[Architecturally, the school has a Catholic ch...</td>\n",
       "      <td>3</td>\n",
       "      <td>[[0.05519997, 0.05013141, 0.047870375, 0.01624...</td>\n",
       "      <td>[[0.011956469, 0.14930709, 0.026600497, 0.0527...</td>\n",
       "      <td>[0.3958578109741211, 0.2917083501815796, 0.309...</td>\n",
       "      <td>[11.857297, 11.392319, 15.061656, 7.184714, 8....</td>\n",
       "      <td>3</td>\n",
       "      <td>3</td>\n",
       "    </tr>\n",
       "  </tbody>\n",
       "</table>\n",
       "</div>"
      ],
      "text/plain": [
       "                                             context  \\\n",
       "0  Architecturally, the school has a Catholic cha...   \n",
       "1  Architecturally, the school has a Catholic cha...   \n",
       "2  Architecturally, the school has a Catholic cha...   \n",
       "\n",
       "                                            question  answer_start  \\\n",
       "0  To whom did the Virgin Mary allegedly appear i...           515   \n",
       "1  What is in front of the Notre Dame Main Building?           188   \n",
       "2  The Basilica of the Sacred heart at Notre Dame...           279   \n",
       "\n",
       "                         text  \\\n",
       "0  Saint Bernadette Soubirous   \n",
       "1   a copper statue of Christ   \n",
       "2           the Main Building   \n",
       "\n",
       "                                           sentences  target  \\\n",
       "0  [Architecturally, the school has a Catholic ch...       5   \n",
       "1  [Architecturally, the school has a Catholic ch...       2   \n",
       "2  [Architecturally, the school has a Catholic ch...       3   \n",
       "\n",
       "                                            sent_emb  \\\n",
       "0  [[0.05519997, 0.05013141, 0.047870375, 0.01624...   \n",
       "1  [[0.05519997, 0.05013141, 0.047870375, 0.01624...   \n",
       "2  [[0.05519997, 0.05013141, 0.047870375, 0.01624...   \n",
       "\n",
       "                                           quest_emb  \\\n",
       "0  [[0.11010079, 0.114229396, 0.11560896, 0.05489...   \n",
       "1  [[0.10951651, 0.11030624, 0.052100066, 0.03053...   \n",
       "2  [[0.011956469, 0.14930709, 0.026600497, 0.0527...   \n",
       "\n",
       "                                          cosine_sim  \\\n",
       "0  [0.42473626136779785, 0.364050030708313, 0.347...   \n",
       "1  [0.45407456159591675, 0.32262009382247925, 0.3...   \n",
       "2  [0.3958578109741211, 0.2917083501815796, 0.309...   \n",
       "\n",
       "                                       euclidean_dis  pred_idx_cos  \\\n",
       "0  [14.563858, 15.262213, 17.398178, 14.272491, 1...             5   \n",
       "1  [12.889506, 12.285218, 16.843704, 8.361172, 11...             3   \n",
       "2  [11.857297, 11.392319, 15.061656, 7.184714, 8....             3   \n",
       "\n",
       "   pred_idx_euc  \n",
       "0             5  \n",
       "1             3  \n",
       "2             3  "
      ]
     },
     "execution_count": 24,
     "metadata": {},
     "output_type": "execute_result"
    }
   ],
   "source": [
    "predicted.head(3)"
   ]
  },
  {
   "cell_type": "code",
   "execution_count": 25,
   "metadata": {},
   "outputs": [
    {
     "data": {
      "text/plain": [
       "[0.42473626136779785,\n",
       " 0.364050030708313,\n",
       " 0.3477550148963928,\n",
       " 0.3942416310310364,\n",
       " 0.3710247874259949,\n",
       " 0.18569016456604004,\n",
       " 0.3519207239151001]"
      ]
     },
     "execution_count": 25,
     "metadata": {},
     "output_type": "execute_result"
    }
   ],
   "source": [
    "predicted[\"cosine_sim\"][0]"
   ]
  },
  {
   "cell_type": "code",
   "execution_count": 26,
   "metadata": {},
   "outputs": [
    {
     "data": {
      "text/plain": [
       "[14.563858, 15.262213, 17.398178, 14.272491, 13.339655, 9.336262, 15.720997]"
      ]
     },
     "execution_count": 26,
     "metadata": {},
     "output_type": "execute_result"
    }
   ],
   "source": [
    "predicted[\"euclidean_dis\"][0]"
   ]
  },
  {
   "cell_type": "markdown",
   "metadata": {},
   "source": [
    "## Accuracy"
   ]
  },
  {
   "cell_type": "code",
   "execution_count": 27,
   "metadata": {},
   "outputs": [],
   "source": [
    "def accuracy(target, predicted):\n",
    "    \n",
    "    acc = (target==predicted).sum()/len(target)\n",
    "    \n",
    "    return acc"
   ]
  },
  {
   "cell_type": "markdown",
   "metadata": {},
   "source": [
    "### Accuracy for  euclidean Distance"
   ]
  },
  {
   "cell_type": "code",
   "execution_count": 28,
   "metadata": {},
   "outputs": [
    {
     "name": "stdout",
     "output_type": "stream",
     "text": [
      "0.4472819014132743\n"
     ]
    }
   ],
   "source": [
    "print(accuracy(predicted[\"target\"], predicted[\"pred_idx_euc\"]))"
   ]
  },
  {
   "cell_type": "markdown",
   "metadata": {},
   "source": [
    "### Accuracy for Cosine Similarity"
   ]
  },
  {
   "cell_type": "code",
   "execution_count": 29,
   "metadata": {},
   "outputs": [
    {
     "name": "stdout",
     "output_type": "stream",
     "text": [
      "0.6338158405443046\n"
     ]
    }
   ],
   "source": [
    "print(accuracy(predicted[\"target\"], predicted[\"pred_idx_cos\"]))"
   ]
  },
  {
   "cell_type": "code",
   "execution_count": 73,
   "metadata": {},
   "outputs": [],
   "source": [
    "predicted.to_csv(\"train_detect_sent.csv\", index=None)"
   ]
  },
  {
   "cell_type": "code",
   "execution_count": 31,
   "metadata": {},
   "outputs": [
    {
     "data": {
      "text/plain": [
       "context          Both the vertical and dipole antennas are simp...\n",
       "question                             Are basic antennas expensive?\n",
       "answer_start                                                    69\n",
       "text                                        relatively inexpensive\n",
       "sentences        [Both the vertical and dipole antennas are sim...\n",
       "target                                                           0\n",
       "sent_emb         [[0.06494937, 0.03690031, 0.12519251, -0.02735...\n",
       "quest_emb        [[0.031715073, 0.07947657, 0.030824697, 0.0126...\n",
       "cosine_sim       [0.3591885566711426, 0.46891170740127563, 0.44...\n",
       "euclidean_dis    [11.512397, 21.817242, 12.696278, 17.895185, 1...\n",
       "pred_idx_cos                                                     0\n",
       "pred_idx_euc                                                     0\n",
       "Name: 75208, dtype: object"
      ]
     },
     "execution_count": 31,
     "metadata": {},
     "output_type": "execute_result"
    }
   ],
   "source": [
    "predicted.iloc[75207,:]"
   ]
  },
  {
   "cell_type": "code",
   "execution_count": 32,
   "metadata": {},
   "outputs": [],
   "source": [
    "ct,k = 0,0\n",
    "for i in range(predicted.shape[0]):\n",
    "    if predicted.iloc[i,10] != predicted.iloc[i,5]:\n",
    "        k += 1\n",
    "        if predicted.iloc[i,11] == predicted.iloc[i,5]:\n",
    "            ct += 1"
   ]
  },
  {
   "cell_type": "code",
   "execution_count": 33,
   "metadata": {},
   "outputs": [
    {
     "data": {
      "text/plain": [
       "(5513, 32077)"
      ]
     },
     "execution_count": 33,
     "metadata": {},
     "output_type": "execute_result"
    }
   ],
   "source": [
    "ct, k"
   ]
  },
  {
   "cell_type": "markdown",
   "metadata": {},
   "source": [
    "### Combining Accuracy"
   ]
  },
  {
   "cell_type": "code",
   "execution_count": 34,
   "metadata": {},
   "outputs": [],
   "source": [
    "label = []\n",
    "for i in range(predicted.shape[0]):\n",
    "    if predicted.iloc[i,10] == predicted.iloc[i,11]:\n",
    "        label.append(predicted.iloc[i,10])\n",
    "    else:\n",
    "        label.append((predicted.iloc[i,10],predicted.iloc[i,10]))"
   ]
  },
  {
   "cell_type": "code",
   "execution_count": 35,
   "metadata": {},
   "outputs": [],
   "source": [
    "ct = 0\n",
    "for i in range(75206):\n",
    "    item = predicted[\"target\"][i]\n",
    "    try:\n",
    "        if label[i] == predicted[\"target\"][i]: ct +=1\n",
    "    except:\n",
    "        if item in label[i]: ct +=1\n",
    "            "
   ]
  },
  {
   "cell_type": "code",
   "execution_count": 36,
   "metadata": {},
   "outputs": [
    {
     "data": {
      "text/plain": [
       "0.636917267239316"
      ]
     },
     "execution_count": 36,
     "metadata": {},
     "output_type": "execute_result"
    }
   ],
   "source": [
    "ct/75206"
   ]
  },
  {
   "cell_type": "markdown",
   "metadata": {},
   "source": [
    "### Root Match"
   ]
  },
  {
   "cell_type": "code",
   "execution_count": 37,
   "metadata": {},
   "outputs": [],
   "source": [
    "predicted = pd.read_csv(\"train_detect_sent.csv\").reset_index(drop=True)"
   ]
  },
  {
   "cell_type": "code",
   "execution_count": 43,
   "metadata": {},
   "outputs": [
    {
     "data": {
      "text/html": [
       "<div>\n",
       "<style scoped>\n",
       "    .dataframe tbody tr th:only-of-type {\n",
       "        vertical-align: middle;\n",
       "    }\n",
       "\n",
       "    .dataframe tbody tr th {\n",
       "        vertical-align: top;\n",
       "    }\n",
       "\n",
       "    .dataframe thead th {\n",
       "        text-align: right;\n",
       "    }\n",
       "</style>\n",
       "<table border=\"1\" class=\"dataframe\">\n",
       "  <thead>\n",
       "    <tr style=\"text-align: right;\">\n",
       "      <th></th>\n",
       "      <th>context</th>\n",
       "      <th>question</th>\n",
       "      <th>answer_start</th>\n",
       "      <th>text</th>\n",
       "      <th>sentences</th>\n",
       "      <th>target</th>\n",
       "      <th>sent_emb</th>\n",
       "      <th>quest_emb</th>\n",
       "      <th>cosine_sim</th>\n",
       "      <th>euclidean_dis</th>\n",
       "      <th>pred_idx_cos</th>\n",
       "      <th>pred_idx_euc</th>\n",
       "    </tr>\n",
       "  </thead>\n",
       "  <tbody>\n",
       "    <tr>\n",
       "      <th>0</th>\n",
       "      <td>Architecturally, the school has a Catholic cha...</td>\n",
       "      <td>To whom did the Virgin Mary allegedly appear i...</td>\n",
       "      <td>515</td>\n",
       "      <td>Saint Bernadette Soubirous</td>\n",
       "      <td>['Architecturally, the school has a Catholic c...</td>\n",
       "      <td>5</td>\n",
       "      <td>[array([ 0.05519997,  0.05013141,  0.04787038,...</td>\n",
       "      <td>[[ 0.11010079  0.1142294   0.11560896 ...  0.0...</td>\n",
       "      <td>[0.42473626136779785, 0.364050030708313, 0.347...</td>\n",
       "      <td>[14.563858, 15.262213, 17.398178, 14.272491, 1...</td>\n",
       "      <td>5</td>\n",
       "      <td>5</td>\n",
       "    </tr>\n",
       "    <tr>\n",
       "      <th>1</th>\n",
       "      <td>Architecturally, the school has a Catholic cha...</td>\n",
       "      <td>What is in front of the Notre Dame Main Building?</td>\n",
       "      <td>188</td>\n",
       "      <td>a copper statue of Christ</td>\n",
       "      <td>['Architecturally, the school has a Catholic c...</td>\n",
       "      <td>2</td>\n",
       "      <td>[array([ 0.05519997,  0.05013141,  0.04787038,...</td>\n",
       "      <td>[[ 0.10951651  0.11030624  0.05210007 ... -0.0...</td>\n",
       "      <td>[0.45407456159591675, 0.32262009382247925, 0.3...</td>\n",
       "      <td>[12.889506, 12.285218, 16.843704, 8.361172, 11...</td>\n",
       "      <td>3</td>\n",
       "      <td>3</td>\n",
       "    </tr>\n",
       "    <tr>\n",
       "      <th>2</th>\n",
       "      <td>Architecturally, the school has a Catholic cha...</td>\n",
       "      <td>The Basilica of the Sacred heart at Notre Dame...</td>\n",
       "      <td>279</td>\n",
       "      <td>the Main Building</td>\n",
       "      <td>['Architecturally, the school has a Catholic c...</td>\n",
       "      <td>3</td>\n",
       "      <td>[array([ 0.05519997,  0.05013141,  0.04787038,...</td>\n",
       "      <td>[[ 0.01195647  0.14930709  0.0266005  ...  0.0...</td>\n",
       "      <td>[0.3958578109741211, 0.2917083501815796, 0.309...</td>\n",
       "      <td>[11.857297, 11.392319, 15.061656, 7.184714, 8....</td>\n",
       "      <td>3</td>\n",
       "      <td>3</td>\n",
       "    </tr>\n",
       "    <tr>\n",
       "      <th>3</th>\n",
       "      <td>Architecturally, the school has a Catholic cha...</td>\n",
       "      <td>What is the Grotto at Notre Dame?</td>\n",
       "      <td>381</td>\n",
       "      <td>a Marian place of prayer and reflection</td>\n",
       "      <td>['Architecturally, the school has a Catholic c...</td>\n",
       "      <td>4</td>\n",
       "      <td>[array([ 0.05519997,  0.05013141,  0.04787038,...</td>\n",
       "      <td>[[ 0.0711433   0.05411833 -0.01395983 ... -0.0...</td>\n",
       "      <td>[0.4900696873664856, 0.4060605764389038, 0.456...</td>\n",
       "      <td>[13.317537, 15.017246, 20.81268, 10.511387, 10...</td>\n",
       "      <td>3</td>\n",
       "      <td>3</td>\n",
       "    </tr>\n",
       "    <tr>\n",
       "      <th>4</th>\n",
       "      <td>Architecturally, the school has a Catholic cha...</td>\n",
       "      <td>What sits on top of the Main Building at Notre...</td>\n",
       "      <td>92</td>\n",
       "      <td>a golden statue of the Virgin Mary</td>\n",
       "      <td>['Architecturally, the school has a Catholic c...</td>\n",
       "      <td>1</td>\n",
       "      <td>[array([ 0.05519997,  0.05013141,  0.04787038,...</td>\n",
       "      <td>[[0.16133597 0.15039583 0.09225756 ... 0.06351...</td>\n",
       "      <td>[0.47775155305862427, 0.2891119718551636, 0.34...</td>\n",
       "      <td>[15.0888195, 11.612733, 16.684145, 9.71824, 12...</td>\n",
       "      <td>3</td>\n",
       "      <td>3</td>\n",
       "    </tr>\n",
       "  </tbody>\n",
       "</table>\n",
       "</div>"
      ],
      "text/plain": [
       "                                             context  \\\n",
       "0  Architecturally, the school has a Catholic cha...   \n",
       "1  Architecturally, the school has a Catholic cha...   \n",
       "2  Architecturally, the school has a Catholic cha...   \n",
       "3  Architecturally, the school has a Catholic cha...   \n",
       "4  Architecturally, the school has a Catholic cha...   \n",
       "\n",
       "                                            question  answer_start  \\\n",
       "0  To whom did the Virgin Mary allegedly appear i...           515   \n",
       "1  What is in front of the Notre Dame Main Building?           188   \n",
       "2  The Basilica of the Sacred heart at Notre Dame...           279   \n",
       "3                  What is the Grotto at Notre Dame?           381   \n",
       "4  What sits on top of the Main Building at Notre...            92   \n",
       "\n",
       "                                      text  \\\n",
       "0               Saint Bernadette Soubirous   \n",
       "1                a copper statue of Christ   \n",
       "2                        the Main Building   \n",
       "3  a Marian place of prayer and reflection   \n",
       "4       a golden statue of the Virgin Mary   \n",
       "\n",
       "                                           sentences  target  \\\n",
       "0  ['Architecturally, the school has a Catholic c...       5   \n",
       "1  ['Architecturally, the school has a Catholic c...       2   \n",
       "2  ['Architecturally, the school has a Catholic c...       3   \n",
       "3  ['Architecturally, the school has a Catholic c...       4   \n",
       "4  ['Architecturally, the school has a Catholic c...       1   \n",
       "\n",
       "                                            sent_emb  \\\n",
       "0  [array([ 0.05519997,  0.05013141,  0.04787038,...   \n",
       "1  [array([ 0.05519997,  0.05013141,  0.04787038,...   \n",
       "2  [array([ 0.05519997,  0.05013141,  0.04787038,...   \n",
       "3  [array([ 0.05519997,  0.05013141,  0.04787038,...   \n",
       "4  [array([ 0.05519997,  0.05013141,  0.04787038,...   \n",
       "\n",
       "                                           quest_emb  \\\n",
       "0  [[ 0.11010079  0.1142294   0.11560896 ...  0.0...   \n",
       "1  [[ 0.10951651  0.11030624  0.05210007 ... -0.0...   \n",
       "2  [[ 0.01195647  0.14930709  0.0266005  ...  0.0...   \n",
       "3  [[ 0.0711433   0.05411833 -0.01395983 ... -0.0...   \n",
       "4  [[0.16133597 0.15039583 0.09225756 ... 0.06351...   \n",
       "\n",
       "                                          cosine_sim  \\\n",
       "0  [0.42473626136779785, 0.364050030708313, 0.347...   \n",
       "1  [0.45407456159591675, 0.32262009382247925, 0.3...   \n",
       "2  [0.3958578109741211, 0.2917083501815796, 0.309...   \n",
       "3  [0.4900696873664856, 0.4060605764389038, 0.456...   \n",
       "4  [0.47775155305862427, 0.2891119718551636, 0.34...   \n",
       "\n",
       "                                       euclidean_dis  pred_idx_cos  \\\n",
       "0  [14.563858, 15.262213, 17.398178, 14.272491, 1...             5   \n",
       "1  [12.889506, 12.285218, 16.843704, 8.361172, 11...             3   \n",
       "2  [11.857297, 11.392319, 15.061656, 7.184714, 8....             3   \n",
       "3  [13.317537, 15.017246, 20.81268, 10.511387, 10...             3   \n",
       "4  [15.0888195, 11.612733, 16.684145, 9.71824, 12...             3   \n",
       "\n",
       "   pred_idx_euc  \n",
       "0             5  \n",
       "1             3  \n",
       "2             3  \n",
       "3             3  \n",
       "4             3  "
      ]
     },
     "execution_count": 43,
     "metadata": {},
     "output_type": "execute_result"
    }
   ],
   "source": [
    "predicted.head()"
   ]
  },
  {
   "cell_type": "code",
   "execution_count": 38,
   "metadata": {},
   "outputs": [],
   "source": [
    "doc = en_nlp(predicted.iloc[0,1])"
   ]
  },
  {
   "cell_type": "code",
   "execution_count": 39,
   "metadata": {},
   "outputs": [
    {
     "data": {
      "text/plain": [
       "'To whom did the Virgin Mary allegedly appear in 1858 in Lourdes France?'"
      ]
     },
     "execution_count": 39,
     "metadata": {},
     "output_type": "execute_result"
    }
   ],
   "source": [
    "predicted.iloc[0,1]"
   ]
  },
  {
   "cell_type": "code",
   "execution_count": 40,
   "metadata": {},
   "outputs": [
    {
     "data": {
      "text/plain": [
       "515"
      ]
     },
     "execution_count": 40,
     "metadata": {},
     "output_type": "execute_result"
    }
   ],
   "source": [
    "predicted.iloc[0,2]"
   ]
  },
  {
   "cell_type": "code",
   "execution_count": 41,
   "metadata": {},
   "outputs": [],
   "source": [
    "def to_nltk_tree(node):\n",
    "    if node.n_lefts + node.n_rights > 0:\n",
    "        return Tree(node.orth_, [to_nltk_tree(child) for child in node.children])\n",
    "    else:\n",
    "        return node.orth_"
   ]
  },
  {
   "cell_type": "code",
   "execution_count": 48,
   "metadata": {},
   "outputs": [
    {
     "data": {
      "text/plain": [
       "'To whom did the Virgin Mary allegedly appear in 1858 in Lourdes France?'"
      ]
     },
     "execution_count": 48,
     "metadata": {},
     "output_type": "execute_result"
    }
   ],
   "source": [
    "predicted.iloc[0,1]"
   ]
  },
  {
   "cell_type": "code",
   "execution_count": 50,
   "metadata": {},
   "outputs": [
    {
     "name": "stdout",
     "output_type": "stream",
     "text": [
      "                  appear                             \n",
      "  __________________|____________________________     \n",
      " |      |      |    |         |           |      in  \n",
      " |      |      |    |         |           |      |    \n",
      " |      |      |    To       Mary         in   France\n",
      " |      |      |    |      ___|_____      |      |    \n",
      "did allegedly  ?   whom  the      Virgin 1858 Lourdes\n",
      "\n"
     ]
    },
    {
     "data": {
      "text/plain": [
       "[None]"
      ]
     },
     "execution_count": 50,
     "metadata": {},
     "output_type": "execute_result"
    }
   ],
   "source": [
    "[to_nltk_tree(sent.root).pretty_print()  for sent in en_nlp(predicted.iloc[0,1]).sents]"
   ]
  },
  {
   "cell_type": "code",
   "execution_count": 51,
   "metadata": {},
   "outputs": [
    {
     "name": "stdout",
     "output_type": "stream",
     "text": [
      "                  appear                             \n",
      "  __________________|____________________________     \n",
      " |      |      |    |         |           |      in  \n",
      " |      |      |    |         |           |      |    \n",
      " |      |      |    To       Mary         in   France\n",
      " |      |      |    |      ___|_____      |      |    \n",
      "did allegedly  ?   whom  the      Virgin 1858 Lourdes\n",
      "\n"
     ]
    },
    {
     "ename": "IndexError",
     "evalue": "list index out of range",
     "output_type": "error",
     "traceback": [
      "\u001b[1;31m---------------------------------------------------------------------------\u001b[0m",
      "\u001b[1;31mIndexError\u001b[0m                                Traceback (most recent call last)",
      "\u001b[1;32m<ipython-input-51-dae35e6679c4>\u001b[0m in \u001b[0;36m<module>\u001b[1;34m\u001b[0m\n\u001b[1;32m----> 1\u001b[1;33m \u001b[1;33m[\u001b[0m\u001b[0mto_nltk_tree\u001b[0m\u001b[1;33m(\u001b[0m\u001b[0msent\u001b[0m\u001b[1;33m.\u001b[0m\u001b[0mroot\u001b[0m\u001b[1;33m)\u001b[0m \u001b[1;33m.\u001b[0m\u001b[0mpretty_print\u001b[0m\u001b[1;33m(\u001b[0m\u001b[1;33m)\u001b[0m \u001b[1;32mfor\u001b[0m \u001b[0msent\u001b[0m \u001b[1;32min\u001b[0m \u001b[0mdoc\u001b[0m\u001b[1;33m.\u001b[0m\u001b[0msents\u001b[0m\u001b[1;33m]\u001b[0m\u001b[1;33m[\u001b[0m\u001b[1;36m5\u001b[0m\u001b[1;33m]\u001b[0m\u001b[1;33m\u001b[0m\u001b[1;33m\u001b[0m\u001b[0m\n\u001b[0m",
      "\u001b[1;31mIndexError\u001b[0m: list index out of range"
     ]
    }
   ],
   "source": [
    "[to_nltk_tree(sent.root) .pretty_print() for sent in doc.sents][5]"
   ]
  },
  {
   "cell_type": "code",
   "execution_count": 54,
   "metadata": {
    "scrolled": true
   },
   "outputs": [
    {
     "name": "stdout",
     "output_type": "stream",
     "text": [
      "['to', 'appear', 'in']\n"
     ]
    }
   ],
   "source": [
    "for sent in doc.sents:\n",
    "    roots = [st.stem(chunk.root.head.text.lower()) for chunk in sent.noun_chunks]\n",
    "    print(roots)"
   ]
  },
  {
   "cell_type": "code",
   "execution_count": 55,
   "metadata": {},
   "outputs": [],
   "source": [
    "def match_roots(x):\n",
    "    question = x[\"question\"].lower()\n",
    "    sentences = en_nlp(x[\"context\"].lower()).sents\n",
    "    \n",
    "    question_root = st.stem(str([sent.root for sent in en_nlp(question).sents][0]))\n",
    "    \n",
    "    li = []\n",
    "    for i,sent in enumerate(sentences):\n",
    "        roots = [st.stem(chunk.root.head.text.lower()) for chunk in sent.noun_chunks]\n",
    "\n",
    "        if question_root in roots: \n",
    "            for k,item in enumerate(ast.literal_eval(x[\"sentences\"])):\n",
    "                if str(sent) in item.lower(): \n",
    "                    li.append(k)\n",
    "    return li"
   ]
  },
  {
   "cell_type": "code",
   "execution_count": 56,
   "metadata": {},
   "outputs": [
    {
     "data": {
      "text/plain": [
       "'The end of what road was once home to Newgate Prison?'"
      ]
     },
     "execution_count": 56,
     "metadata": {},
     "output_type": "execute_result"
    }
   ],
   "source": [
    "predicted[\"question\"][21493]"
   ]
  },
  {
   "cell_type": "code",
   "execution_count": 57,
   "metadata": {},
   "outputs": [
    {
     "data": {
      "text/plain": [
       "\"10th Street (40°44′03″N 74°00′11″W\\ufeff / \\ufeff40.7342580°N 74.0029670°W\\ufeff / 40.7342580; -74.0029670) begins at the FDR Drive and Avenue C. West of Sixth Avenue, it turns southward about 40 degrees to join the Greenwich Village street grid and continue to West Street on the Hudson River. Because West 4th Street turns northward at Sixth Avenue, it intersects 10th, 11th and 12th and 13th Streets in the West Village. The M8 bus operates on 10th Street in both directions between Avenue D and Avenue A, and eastbound between West Street and Sixth Avenue. 10th Street has an eastbound bike lane from West Street to the East River. In 2009, the two-way section of 10th Street between Avenue A and the East River had bicycle markings and sharrows installed, but it still has no dedicated bike lane. West 10th Street was previously named Amos Street for Richard Amos. The end of West 10th Street toward the Hudson River was once the home of Newgate Prison, New York City's first prison and the United States' second.\""
      ]
     },
     "execution_count": 57,
     "metadata": {},
     "output_type": "execute_result"
    }
   ],
   "source": [
    "predicted[\"context\"][21493]"
   ]
  },
  {
   "cell_type": "code",
   "execution_count": 58,
   "metadata": {},
   "outputs": [],
   "source": [
    "predicted[\"root_match_idx\"] = predicted.apply(match_roots, axis = 1)"
   ]
  },
  {
   "cell_type": "code",
   "execution_count": null,
   "metadata": {
    "collapsed": true
   },
   "outputs": [],
   "source": []
  },
  {
   "cell_type": "code",
   "execution_count": 59,
   "metadata": {},
   "outputs": [],
   "source": [
    "predicted[\"root_match_idx_first\"]= predicted[\"root_match_idx\"].apply(lambda x: x[0] if len(x)>0 else 0)"
   ]
  },
  {
   "cell_type": "code",
   "execution_count": 60,
   "metadata": {},
   "outputs": [
    {
     "data": {
      "text/plain": [
       "0.40405032078357955"
      ]
     },
     "execution_count": 60,
     "metadata": {},
     "output_type": "execute_result"
    }
   ],
   "source": [
    "(predicted[\"root_match_idx_first\"]==predicted[\"target\"]).sum()/predicted.shape[0]"
   ]
  },
  {
   "cell_type": "code",
   "execution_count": 61,
   "metadata": {},
   "outputs": [],
   "source": [
    "predicted.to_csv(\"train_detect_sent.csv\", index=None)"
   ]
  },
  {
   "cell_type": "code",
   "execution_count": 62,
   "metadata": {},
   "outputs": [
    {
     "data": {
      "text/html": [
       "<div>\n",
       "<style scoped>\n",
       "    .dataframe tbody tr th:only-of-type {\n",
       "        vertical-align: middle;\n",
       "    }\n",
       "\n",
       "    .dataframe tbody tr th {\n",
       "        vertical-align: top;\n",
       "    }\n",
       "\n",
       "    .dataframe thead th {\n",
       "        text-align: right;\n",
       "    }\n",
       "</style>\n",
       "<table border=\"1\" class=\"dataframe\">\n",
       "  <thead>\n",
       "    <tr style=\"text-align: right;\">\n",
       "      <th></th>\n",
       "      <th>context</th>\n",
       "      <th>question</th>\n",
       "      <th>answer_start</th>\n",
       "      <th>text</th>\n",
       "      <th>sentences</th>\n",
       "      <th>target</th>\n",
       "      <th>sent_emb</th>\n",
       "      <th>quest_emb</th>\n",
       "      <th>cosine_sim</th>\n",
       "      <th>euclidean_dis</th>\n",
       "      <th>pred_idx_cos</th>\n",
       "      <th>pred_idx_euc</th>\n",
       "      <th>root_match_idx</th>\n",
       "      <th>root_match_idx_first</th>\n",
       "    </tr>\n",
       "  </thead>\n",
       "  <tbody>\n",
       "  </tbody>\n",
       "</table>\n",
       "</div>"
      ],
      "text/plain": [
       "Empty DataFrame\n",
       "Columns: [context, question, answer_start, text, sentences, target, sent_emb, quest_emb, cosine_sim, euclidean_dis, pred_idx_cos, pred_idx_euc, root_match_idx, root_match_idx_first]\n",
       "Index: []"
      ]
     },
     "execution_count": 62,
     "metadata": {},
     "output_type": "execute_result"
    }
   ],
   "source": [
    "predicted[(predicted[\"sentences\"].apply(lambda x: len(ast.literal_eval(x)))<11) &  (predicted[\"root_match_idx_first\"]>10)]       \n",
    "\n"
   ]
  },
  {
   "cell_type": "code",
   "execution_count": 63,
   "metadata": {},
   "outputs": [
    {
     "data": {
      "text/plain": [
       "7"
      ]
     },
     "execution_count": 63,
     "metadata": {},
     "output_type": "execute_result"
    }
   ],
   "source": [
    "len(ast.literal_eval(predicted.iloc[21493,4]))"
   ]
  },
  {
   "cell_type": "code",
   "execution_count": 64,
   "metadata": {},
   "outputs": [
    {
     "name": "stdout",
     "output_type": "stream",
     "text": [
      "['street']\n",
      "['°']\n",
      "['w\\ufeff']\n",
      "['at', 'driv', 'of', 'turn', 'turn', 'join', 'to', 'on']\n",
      "['turn', 'at', 'intersect', 'intersect', 'in']\n",
      "['op', 'on', 'in', 'between', 'op', 'between', 'street']\n",
      "['has', 'has', 'from', 'to']\n",
      "['had', 'of', 'between', 'a', 'had', 'mark', 'has', 'has']\n",
      "['nam', 'for']\n",
      "['was', 'of', 'toward', 'was', 'of', 'prison', 'prison']\n"
     ]
    }
   ],
   "source": [
    "question = predicted[\"question\"][21493].lower()\n",
    "sentences = en_nlp(predicted[\"context\"][21493].lower()).sents\n",
    "    \n",
    "question_root = st.stem(str([sent.root for sent in en_nlp(question).sents][0]))\n",
    "    \n",
    "li = []\n",
    "for i,sent in enumerate(sentences):\n",
    "    roots = [st.stem(chunk.root.head.text.lower()) for chunk in sent.noun_chunks]\n",
    "    print(roots)\n",
    "\n",
    "    if question_root in roots: li.append(i)"
   ]
  },
  {
   "cell_type": "code",
   "execution_count": 65,
   "metadata": {},
   "outputs": [
    {
     "data": {
      "text/plain": [
       "['10th Street (40°44′03″N 74°00′11″W\\ufeff / \\ufeff40.7342580°N 74.0029670°W\\ufeff / 40.7342580; -74.0029670) begins at the FDR Drive and Avenue C. West of Sixth Avenue, it turns southward about 40 degrees to join the Greenwich Village street grid and continue to West Street on the Hudson River.',\n",
       " 'Because West 4th Street turns northward at Sixth Avenue, it intersects 10th, 11th and 12th and 13th Streets in the West Village.',\n",
       " 'The M8 bus operates on 10th Street in both directions between Avenue D and Avenue A, and eastbound between West Street and Sixth Avenue.',\n",
       " '10th Street has an eastbound bike lane from West Street to the East River.',\n",
       " 'In 2009, the two-way section of 10th Street between Avenue A and the East River had bicycle markings and sharrows installed, but it still has no dedicated bike lane.',\n",
       " 'West 10th Street was previously named Amos Street for Richard Amos.',\n",
       " \"The end of West 10th Street toward the Hudson River was once the home of Newgate Prison, New York City's first prison and the United States' second.\"]"
      ]
     },
     "execution_count": 65,
     "metadata": {},
     "output_type": "execute_result"
    }
   ],
   "source": [
    "ast.literal_eval(predicted[\"sentences\"][21493])"
   ]
  },
  {
   "cell_type": "code",
   "execution_count": 66,
   "metadata": {},
   "outputs": [
    {
     "data": {
      "text/plain": [
       "\"10th Street (40°44′03″N 74°00′11″W\\ufeff / \\ufeff40.7342580°N 74.0029670°W\\ufeff / 40.7342580; -74.0029670) begins at the FDR Drive and Avenue C. West of Sixth Avenue, it turns southward about 40 degrees to join the Greenwich Village street grid and continue to West Street on the Hudson River. Because West 4th Street turns northward at Sixth Avenue, it intersects 10th, 11th and 12th and 13th Streets in the West Village. The M8 bus operates on 10th Street in both directions between Avenue D and Avenue A, and eastbound between West Street and Sixth Avenue. 10th Street has an eastbound bike lane from West Street to the East River. In 2009, the two-way section of 10th Street between Avenue A and the East River had bicycle markings and sharrows installed, but it still has no dedicated bike lane. West 10th Street was previously named Amos Street for Richard Amos. The end of West 10th Street toward the Hudson River was once the home of Newgate Prison, New York City's first prison and the United States' second.\""
      ]
     },
     "execution_count": 66,
     "metadata": {},
     "output_type": "execute_result"
    }
   ],
   "source": [
    "predicted[\"context\"][21493]"
   ]
  },
  {
   "cell_type": "code",
   "execution_count": 67,
   "metadata": {},
   "outputs": [],
   "source": [
    "# en_nlp = spacy.load('en')\n",
    "sentences = en_nlp(predicted[\"context\"][21493].lower()).sents"
   ]
  },
  {
   "cell_type": "code",
   "execution_count": 68,
   "metadata": {},
   "outputs": [
    {
     "name": "stdout",
     "output_type": "stream",
     "text": [
      "10th street (40°44′03″n 74°\n",
      "00′11″w﻿ / ﻿40.7342580°n 74.0029670°\n",
      "w﻿ / 40.7342580\n",
      "; -74.0029670) begins at the fdr drive and avenue c. west of sixth avenue, it turns southward about 40 degrees to join the greenwich village street grid and continue to west street on the hudson river.\n",
      "because west 4th street turns northward at sixth avenue, it intersects 10th, 11th and 12th and 13th streets in the west village.\n",
      "the m8 bus operates on 10th street in both directions between avenue d and avenue a, and eastbound between west street and sixth avenue.\n",
      "10th street has an eastbound bike lane from west street to the east river.\n",
      "in 2009, the two-way section of 10th street between avenue a and the east river had bicycle markings and sharrows installed, but it still has no dedicated bike lane.\n",
      "west 10th street was previously named amos street for richard amos.\n",
      "the end of west 10th street toward the hudson river was once the home of newgate prison, new york city's first prison and the united states' second.\n"
     ]
    }
   ],
   "source": [
    "for item in sentences:\n",
    "    print(item)"
   ]
  },
  {
   "cell_type": "code",
   "execution_count": 69,
   "metadata": {},
   "outputs": [
    {
     "data": {
      "text/plain": [
       "TfidfVectorizer(analyzer='word', binary=False, decode_error='strict',\n",
       "                dtype=<class 'numpy.float64'>, encoding='utf-8',\n",
       "                input=\"['Architecturally, the school has a Catholic \"\n",
       "                      'character.\\', \"Atop the Main Building\\'s gold dome is a '\n",
       "                      'golden statue of the Virgin Mary.\", \\'Immediately in '\n",
       "                      'front of the Main Building and facing it, is a copper '\n",
       "                      'statue of Christ with arms upraised with the legend '\n",
       "                      '\"Ve...\n",
       "                      'the end of the main drive (and in a direct line that '\n",
       "                      'connects through 3 statues and the Gold Dome), is a '\n",
       "                      \"simple, modern stone statue of Mary.']\",\n",
       "                lowercase=True, max_df=1.0, max_features=None, min_df=1,\n",
       "                ngram_range=(1, 2), norm='l2', preprocessor=None,\n",
       "                smooth_idf=True, stop_words=None, strip_accents=None,\n",
       "                sublinear_tf=False, token_pattern='(?u)\\\\b\\\\w\\\\w+\\\\b',\n",
       "                tokenizer=None, use_idf=True, vocabulary=None)"
      ]
     },
     "execution_count": 69,
     "metadata": {},
     "output_type": "execute_result"
    }
   ],
   "source": [
    "TfidfVectorizer(predicted[\"sentences\"][0], ngram_range=(1,2))"
   ]
  },
  {
   "cell_type": "code",
   "execution_count": null,
   "metadata": {
    "collapsed": true
   },
   "outputs": [],
   "source": []
  },
  {
   "cell_type": "code",
   "execution_count": null,
   "metadata": {
    "collapsed": true
   },
   "outputs": [],
   "source": []
  },
  {
   "cell_type": "code",
   "execution_count": null,
   "metadata": {
    "collapsed": true
   },
   "outputs": [],
   "source": []
  },
  {
   "cell_type": "code",
   "execution_count": null,
   "metadata": {
    "collapsed": true
   },
   "outputs": [],
   "source": []
  },
  {
   "cell_type": "code",
   "execution_count": null,
   "metadata": {
    "collapsed": true
   },
   "outputs": [],
   "source": []
  },
  {
   "cell_type": "code",
   "execution_count": null,
   "metadata": {
    "collapsed": true
   },
   "outputs": [],
   "source": []
  },
  {
   "cell_type": "code",
   "execution_count": null,
   "metadata": {
    "collapsed": true
   },
   "outputs": [],
   "source": []
  },
  {
   "cell_type": "code",
   "execution_count": null,
   "metadata": {
    "collapsed": true
   },
   "outputs": [],
   "source": []
  },
  {
   "cell_type": "code",
   "execution_count": null,
   "metadata": {
    "collapsed": true
   },
   "outputs": [],
   "source": []
  },
  {
   "cell_type": "code",
   "execution_count": null,
   "metadata": {
    "collapsed": true
   },
   "outputs": [],
   "source": []
  },
  {
   "cell_type": "code",
   "execution_count": null,
   "metadata": {
    "collapsed": true
   },
   "outputs": [],
   "source": []
  },
  {
   "cell_type": "code",
   "execution_count": null,
   "metadata": {
    "collapsed": true
   },
   "outputs": [],
   "source": []
  },
  {
   "cell_type": "code",
   "execution_count": null,
   "metadata": {
    "collapsed": true
   },
   "outputs": [],
   "source": []
  },
  {
   "cell_type": "code",
   "execution_count": null,
   "metadata": {
    "collapsed": true
   },
   "outputs": [],
   "source": []
  },
  {
   "cell_type": "code",
   "execution_count": null,
   "metadata": {
    "collapsed": true
   },
   "outputs": [],
   "source": []
  },
  {
   "cell_type": "code",
   "execution_count": null,
   "metadata": {
    "collapsed": true
   },
   "outputs": [],
   "source": []
  },
  {
   "cell_type": "code",
   "execution_count": null,
   "metadata": {
    "collapsed": true
   },
   "outputs": [],
   "source": []
  },
  {
   "cell_type": "code",
   "execution_count": null,
   "metadata": {
    "collapsed": true
   },
   "outputs": [],
   "source": []
  }
 ],
 "metadata": {
  "hide_input": false,
  "kernelspec": {
   "display_name": "Python 3",
   "language": "python",
   "name": "python3"
  },
  "language_info": {
   "codemirror_mode": {
    "name": "ipython",
    "version": 3
   },
   "file_extension": ".py",
   "mimetype": "text/x-python",
   "name": "python",
   "nbconvert_exporter": "python",
   "pygments_lexer": "ipython3",
   "version": "3.7.4"
  }
 },
 "nbformat": 4,
 "nbformat_minor": 2
}
